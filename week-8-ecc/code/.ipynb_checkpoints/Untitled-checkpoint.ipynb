{
 "cells": [
  {
   "cell_type": "code",
   "execution_count": 6,
   "id": "5f8ad44d-3a4e-4703-babe-9c8165788ee5",
   "metadata": {},
   "outputs": [
    {
     "ename": "ModuleNotFoundError",
     "evalue": "No module named 'pwn'",
     "output_type": "error",
     "traceback": [
      "\u001b[31m---------------------------------------------------------------------------\u001b[39m",
      "\u001b[31mModuleNotFoundError\u001b[39m                       Traceback (most recent call last)",
      "\u001b[36mCell\u001b[39m\u001b[36m \u001b[39m\u001b[32mIn[6]\u001b[39m\u001b[32m, line 1\u001b[39m\n\u001b[32m----> \u001b[39m\u001b[32m1\u001b[39m \u001b[38;5;28;01mfrom\u001b[39;00m\u001b[38;5;250m \u001b[39m\u001b[34;01mpwn\u001b[39;00m\u001b[38;5;250m \u001b[39m\u001b[38;5;28;01mimport\u001b[39;00m remote\n\u001b[32m      2\u001b[39m \u001b[38;5;28;01mfrom\u001b[39;00m\u001b[38;5;250m \u001b[39m\u001b[34;01msage\u001b[39;00m\u001b[34;01m.\u001b[39;00m\u001b[34;01mall\u001b[39;00m\u001b[38;5;250m \u001b[39m\u001b[38;5;28;01mimport\u001b[39;00m GF, EllipticCurve, factor, discrete_log, crt\n\u001b[32m      4\u001b[39m \u001b[38;5;28;01mdef\u001b[39;00m\u001b[38;5;250m \u001b[39m\u001b[34mdisc_log\u001b[39m(P, aP):\n",
      "\u001b[31mModuleNotFoundError\u001b[39m: No module named 'pwn'"
     ]
    }
   ],
   "source": [
    "from pwn import remote\n",
    "from sage.all import GF, EllipticCurve, factor, discrete_log, crt\n",
    "\n",
    "def disc_log(P, aP):\n",
    "    dlog = []\n",
    "    factors = []\n",
    "\n",
    "    order = P.order()\n",
    "    for p, e in factor(order):\n",
    "        factors.append(p ** e)\n",
    "        t = order // factors[-1]\n",
    "        dlog.append(discrete_log(t * Ap, t * G, operation='+'))\n",
    "\n",
    "    return crt(dlog, factors)"
   ]
  },
  {
   "cell_type": "code",
   "execution_count": 7,
   "id": "f3d00b43-0a10-4c0f-9f88-591599d94053",
   "metadata": {},
   "outputs": [
    {
     "name": "stdout",
     "output_type": "stream",
     "text": [
      "[+] Order of E: 340282366920938463465004184633952524077\n",
      "[+] Order of Etwist: 3 * 79 * 644899 * 1283505703 * 19385376821 * 89480282251 * 340282366920938463465004184633952524077\n"
     ]
    }
   ],
   "source": [
    "q = 2**128 - 159\n",
    "a = 1\n",
    "b = 1494\n",
    "\n",
    "F = GF(q)\n",
    "Ftwist = GF(q**2)\n",
    "\n",
    "E = EllipticCurve(F, [a, b])\n",
    "Etwist = EllipticCurve(Ftwist, [a, b])\n",
    "\n",
    "print(f\"[+] Order of E: {factor(E.order())}\")\n",
    "print(f\"[+] Order of Etwist: {factor(Etwist.order())}\")"
   ]
  },
  {
   "cell_type": "code",
   "execution_count": 8,
   "id": "5d99dd22-a275-4477-a0c0-080197d3ba58",
   "metadata": {},
   "outputs": [
    {
     "name": "stdout",
     "output_type": "stream",
     "text": [
      "[+] Order of P (with Px = 1) in Etwist: 3 * 79 * 644899 * 1283505703 * 19385376821 * 89480282251\n"
     ]
    }
   ],
   "source": [
    "P = Etwist.lift_x(F(1))\n",
    "print(f\"[+] Order of P (with Px = 1) in Etwist: {factor(P.order())}\")"
   ]
  },
  {
   "cell_type": "code",
   "execution_count": 12,
   "id": "2e08125c-2cf1-44b7-b3c7-3cb1baf5019c",
   "metadata": {},
   "outputs": [
    {
     "ename": "NameError",
     "evalue": "name 'remote' is not defined",
     "output_type": "error",
     "traceback": [
      "\u001b[31m---------------------------------------------------------------------------\u001b[39m",
      "\u001b[31mNameError\u001b[39m                                 Traceback (most recent call last)",
      "\u001b[36mCell\u001b[39m\u001b[36m \u001b[39m\u001b[32mIn[12]\u001b[39m\u001b[32m, line 1\u001b[39m\n\u001b[32m----> \u001b[39m\u001b[32m1\u001b[39m r = \u001b[43mremote\u001b[49m(\u001b[33m\"\u001b[39m\u001b[33marchive.cryptohack.org\u001b[39m\u001b[33m\"\u001b[39m, Integer(\u001b[32m11718\u001b[39m))\n\u001b[32m      3\u001b[39m \u001b[38;5;28mprint\u001b[39m(\u001b[33mf\u001b[39m\u001b[33m\"\u001b[39m\u001b[33m[+] P: \u001b[39m\u001b[38;5;132;01m{\u001b[39;00mP\u001b[38;5;132;01m}\u001b[39;00m\u001b[33m\"\u001b[39m)\n\u001b[32m      4\u001b[39m r.sendlineafter(\u001b[33mb\u001b[39m\u001b[33m'\u001b[39m\u001b[33mx-coordinate: \u001b[39m\u001b[33m'\u001b[39m, \u001b[33mb\u001b[39m\u001b[33m'\u001b[39m\u001b[33m1\u001b[39m\u001b[33m'\u001b[39m)\n",
      "\u001b[31mNameError\u001b[39m: name 'remote' is not defined"
     ]
    }
   ],
   "source": [
    "r = remote(\"archive.cryptohack.org\", 11718)\n",
    "\n",
    "print(f\"[+] P: {P}\")\n",
    "r.sendlineafter(b'x-coordinate: ', b'1')\n",
    "\n",
    "aP = E2.lift_x(Ftwist(int(r.recvline())))\n",
    "print(f\"[+] aP: {aP}\")\n",
    "r.close()\n",
    "\n",
    "# Solve\n",
    "a = int(disc_log(P, aP))\n",
    "print(f\"[+] a: {a}\")\n",
    "\n",
    "r.success('ECSC{' + bytes.fromhex(hex(a)[2:]).decode() + '}')"
   ]
  }
 ],
 "metadata": {
  "kernelspec": {
   "display_name": "SageMath 10.7",
   "language": "sage",
   "name": "sagemath"
  },
  "language_info": {
   "codemirror_mode": {
    "name": "ipython",
    "version": 3
   },
   "file_extension": ".py",
   "mimetype": "text/x-python",
   "name": "python",
   "nbconvert_exporter": "python",
   "pygments_lexer": "ipython3",
   "version": "3.13.7"
  }
 },
 "nbformat": 4,
 "nbformat_minor": 5
}
