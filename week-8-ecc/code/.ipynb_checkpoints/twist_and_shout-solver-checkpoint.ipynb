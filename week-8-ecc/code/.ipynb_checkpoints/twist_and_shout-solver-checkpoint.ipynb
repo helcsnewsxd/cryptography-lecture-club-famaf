{
 "cells": [
  {
   "cell_type": "code",
   "execution_count": 1,
   "id": "5f8ad44d-3a4e-4703-babe-9c8165788ee5",
   "metadata": {},
   "outputs": [],
   "source": [
    "from pwn import remote\n",
    "from sage.all import GF, EllipticCurve, factor, discrete_log, crt\n",
    "\n",
    "def disc_log(P, aP):\n",
    "    dlog_list, fact_list = [], []\n",
    "    order = P.order()\n",
    "    facts = factor(order)\n",
    "\n",
    "    print(f\"[+] DISC LOG - Factor list: {facts}\")\n",
    "    for p, e in facts:\n",
    "        print(f\"\\t[+] Seeing {p, e}\")\n",
    "        fact_list.append(p ** e)\n",
    "        t = order // (p ** e)\n",
    "        dlog_list.append(discrete_log(t * aP, t * P, operation='+'))\n",
    "\n",
    "    print(f\"\\t[+] Chinese remainder theorem...\")\n",
    "    return crt(dlog_list, fact_list)"
   ]
  },
  {
   "cell_type": "code",
   "execution_count": 2,
   "id": "f3d00b43-0a10-4c0f-9f88-591599d94053",
   "metadata": {},
   "outputs": [
    {
     "name": "stdout",
     "output_type": "stream",
     "text": [
      "[+] Order of E: 340282366920938463465004184633952524077\n",
      "[+] Order of Etwist: 3 * 79 * 644899 * 1283505703 * 19385376821 * 89480282251 * 340282366920938463465004184633952524077\n"
     ]
    }
   ],
   "source": [
    "q = 2**128 - 159\n",
    "a = 1\n",
    "b = 1494\n",
    "\n",
    "F = GF(q)\n",
    "Ftwist = GF(q**2)\n",
    "\n",
    "E = EllipticCurve(F, [a, b])\n",
    "Etwist = EllipticCurve(Ftwist, [a, b])\n",
    "\n",
    "print(f\"[+] Order of E: {factor(E.order())}\")\n",
    "print(f\"[+] Order of Etwist: {factor(Etwist.order())}\")"
   ]
  },
  {
   "cell_type": "code",
   "execution_count": 3,
   "id": "5d99dd22-a275-4477-a0c0-080197d3ba58",
   "metadata": {},
   "outputs": [
    {
     "name": "stdout",
     "output_type": "stream",
     "text": [
      "[+] Order of P (with Px = 1) in Etwist: 3 * 79 * 644899 * 1283505703 * 19385376821 * 89480282251\n"
     ]
    }
   ],
   "source": [
    "P = Etwist.lift_x(F(1))\n",
    "print(f\"[+] Order of P (with Px = 1) in Etwist: {factor(P.order())}\")"
   ]
  },
  {
   "cell_type": "code",
   "execution_count": 4,
   "id": "2e08125c-2cf1-44b7-b3c7-3cb1baf5019c",
   "metadata": {},
   "outputs": [
    {
     "name": "stdout",
     "output_type": "stream",
     "text": [
      "[x] Opening connection to archive.cryptohack.org on port 11718\n",
      "[x] Opening connection to archive.cryptohack.org on port 11718: Trying 178.62.74.206\n",
      "[+] Opening connection to archive.cryptohack.org on port 11718: Done\n",
      "[+] P: (1 : 195291075018479657145988939598502694512*z2 + 75013447040380062933758487920479163178 : 1)\n",
      "[+] aP: (311871325842774212191814629985054913923 : 195998677052099201514655624035609850116*z2 + 161545597729712412760836851939473257249 : 1)\n",
      "[*] Closed connection to archive.cryptohack.org port 11718\n",
      "[+] DISC LOG - Factor list: 3 * 79 * 644899 * 1283505703 * 19385376821 * 89480282251\n",
      "\t[+] Seeing (3, 1)\n",
      "\t[+] Seeing (79, 1)\n",
      "\t[+] Seeing (644899, 1)\n",
      "\t[+] Seeing (1283505703, 1)\n",
      "\t[+] Seeing (19385376821, 1)\n",
      "\t[+] Seeing (89480282251, 1)\n",
      "\t[+] Chinese remainder theorem...\n",
      "[+] a: 287993851873674120389351997093278753\n",
      "[+] Flag: ECSC{7w1st_&&_sh0ut!}\n"
     ]
    }
   ],
   "source": [
    "r = remote(\"archive.cryptohack.org\", 11718)\n",
    "\n",
    "print(f\"[+] P: {P}\")\n",
    "r.sendlineafter(b'x-coordinate: ', b'1')\n",
    "\n",
    "aP = Etwist.lift_x(Ftwist(int(r.recvline())))\n",
    "print(f\"[+] aP: {aP}\")\n",
    "r.close()\n",
    "\n",
    "# Solve\n",
    "a = int(disc_log(P, aP))\n",
    "print(f\"[+] a: {a}\")\n",
    "\n",
    "print('[+] Flag: ECSC{' + bytes.fromhex(hex(a)[2:]).decode() + '}')"
   ]
  }
 ],
 "metadata": {
  "kernelspec": {
   "display_name": "SageMath 10.7",
   "language": "sage",
   "name": "sagemath"
  },
  "language_info": {
   "codemirror_mode": {
    "name": "ipython",
    "version": 3
   },
   "file_extension": ".py",
   "mimetype": "text/x-python",
   "name": "python",
   "nbconvert_exporter": "python",
   "pygments_lexer": "ipython3",
   "version": "3.13.7"
  }
 },
 "nbformat": 4,
 "nbformat_minor": 5
}
