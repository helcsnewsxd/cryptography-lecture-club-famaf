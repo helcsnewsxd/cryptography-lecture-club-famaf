{
 "cells": [
  {
   "cell_type": "code",
   "execution_count": 1,
   "id": "5f8ad44d-3a4e-4703-babe-9c8165788ee5",
   "metadata": {},
   "outputs": [],
   "source": [
    "from pwn import remote\n",
    "from sage.all import GF, EllipticCurve, factor, discrete_log, crt\n",
    "\n",
    "def disc_log(P, aP):\n",
    "    dlog_list, fact_list = [], []\n",
    "    order = P.order()\n",
    "    facts = factor(order)\n",
    "\n",
    "    print(f\"[+] DISC LOG - Factor list: {facts}\")\n",
    "    for p, e in facts:\n",
    "        print(f\"\\t[+] Seeing {p, e}\")\n",
    "        fact_list.append(p ** e)\n",
    "        t = order // (p ** e)\n",
    "        dlog_list.append(discrete_log(t * aP, t * P, operation='+'))\n",
    "\n",
    "    print(f\"\\t[+] Chinese remainder theorem...\")\n",
    "    return crt(dlog_list, fact_list)"
   ]
  },
  {
   "cell_type": "code",
   "execution_count": 2,
   "id": "f3d00b43-0a10-4c0f-9f88-591599d94053",
   "metadata": {},
   "outputs": [
    {
     "name": "stdout",
     "output_type": "stream",
     "text": [
      "[+] Order of E: 340282366920938463465004184633952524077\n",
      "[+] Order of Etwist: 3 * 79 * 644899 * 1283505703 * 19385376821 * 89480282251 * 340282366920938463465004184633952524077\n"
     ]
    }
   ],
   "source": [
    "q = 2**128 - 159\n",
    "a = 1\n",
    "b = 1494\n",
    "\n",
    "F = GF(q)\n",
    "Ftwist = GF(q**2)\n",
    "\n",
    "E = EllipticCurve(F, [a, b])\n",
    "Etwist = EllipticCurve(Ftwist, [a, b])\n",
    "\n",
    "print(f\"[+] Order of E: {factor(E.order())}\")\n",
    "print(f\"[+] Order of Etwist: {factor(Etwist.order())}\")"
   ]
  },
  {
   "cell_type": "code",
   "execution_count": 3,
   "id": "5d99dd22-a275-4477-a0c0-080197d3ba58",
   "metadata": {},
   "outputs": [
    {
     "name": "stdout",
     "output_type": "stream",
     "text": [
      "[+] Order of P (with Px = 1) in Etwist: 3 * 79 * 644899 * 1283505703 * 19385376821 * 89480282251\n"
     ]
    }
   ],
   "source": [
    "P = Etwist.lift_x(F(1))\n",
    "print(f\"[+] Order of P (with Px = 1) in Etwist: {factor(P.order())}\")"
   ]
  },
  {
   "cell_type": "code",
   "execution_count": 5,
   "id": "2e08125c-2cf1-44b7-b3c7-3cb1baf5019c",
   "metadata": {},
   "outputs": [
    {
     "name": "stdout",
     "output_type": "stream",
     "text": [
      "[x] Opening connection to archive.cryptohack.org on port 11718\n",
      "[x] Opening connection to archive.cryptohack.org on port 11718: Trying 178.62.74.206\n",
      "[ERROR] Could not connect to archive.cryptohack.org on port 11718\n",
      "[-] Opening connection to archive.cryptohack.org on port 11718: Failed\n"
     ]
    },
    {
     "ename": "PwnlibException",
     "evalue": "Could not connect to archive.cryptohack.org on port 11718",
     "output_type": "error",
     "traceback": [
      "\u001b[31m---------------------------------------------------------------------------\u001b[39m",
      "\u001b[31mPwnlibException\u001b[39m                           Traceback (most recent call last)",
      "\u001b[36mCell\u001b[39m\u001b[36m \u001b[39m\u001b[32mIn[5]\u001b[39m\u001b[32m, line 1\u001b[39m\n\u001b[32m----> \u001b[39m\u001b[32m1\u001b[39m r = \u001b[43mremote\u001b[49m\u001b[43m(\u001b[49m\u001b[33;43m\"\u001b[39;49m\u001b[33;43marchive.cryptohack.org\u001b[39;49m\u001b[33;43m\"\u001b[39;49m\u001b[43m,\u001b[49m\u001b[43m \u001b[49m\u001b[43mInteger\u001b[49m\u001b[43m(\u001b[49m\u001b[32;43m11718\u001b[39;49m\u001b[43m)\u001b[49m\u001b[43m)\u001b[49m\n\u001b[32m      3\u001b[39m \u001b[38;5;28mprint\u001b[39m(\u001b[33mf\u001b[39m\u001b[33m\"\u001b[39m\u001b[33m[+] P: \u001b[39m\u001b[38;5;132;01m{\u001b[39;00mP\u001b[38;5;132;01m}\u001b[39;00m\u001b[33m\"\u001b[39m)\n\u001b[32m      4\u001b[39m r.sendlineafter(\u001b[33mb\u001b[39m\u001b[33m'\u001b[39m\u001b[33mx-coordinate: \u001b[39m\u001b[33m'\u001b[39m, \u001b[33mb\u001b[39m\u001b[33m'\u001b[39m\u001b[33m1\u001b[39m\u001b[33m'\u001b[39m)\n",
      "\u001b[36mFile \u001b[39m\u001b[32m/usr/lib/python3.13/site-packages/pwnlib/tubes/remote.py:85\u001b[39m, in \u001b[36mremote.__init__\u001b[39m\u001b[34m(self, host, port, fam, typ, sock, ssl, ssl_context, ssl_args, sni, *args, **kwargs)\u001b[39m\n\u001b[32m     83\u001b[39m fam = \u001b[38;5;28mself\u001b[39m._get_family(fam)\n\u001b[32m     84\u001b[39m \u001b[38;5;28;01mtry\u001b[39;00m:\n\u001b[32m---> \u001b[39m\u001b[32m85\u001b[39m     \u001b[38;5;28mself\u001b[39m.sock   = \u001b[38;5;28;43mself\u001b[39;49m\u001b[43m.\u001b[49m\u001b[43m_connect\u001b[49m\u001b[43m(\u001b[49m\u001b[43mfam\u001b[49m\u001b[43m,\u001b[49m\u001b[43m \u001b[49m\u001b[43mtyp\u001b[49m\u001b[43m)\u001b[49m\n\u001b[32m     86\u001b[39m \u001b[38;5;28;01mexcept\u001b[39;00m socket.gaierror \u001b[38;5;28;01mas\u001b[39;00m e:\n\u001b[32m     87\u001b[39m     \u001b[38;5;28;01mif\u001b[39;00m e.errno != socket.EAI_NONAME:\n",
      "\u001b[36mFile \u001b[39m\u001b[32m/usr/lib/python3.13/site-packages/pwnlib/tubes/remote.py:134\u001b[39m, in \u001b[36mremote._connect\u001b[39m\u001b[34m(self, fam, typ)\u001b[39m\n\u001b[32m    132\u001b[39m     \u001b[38;5;28;01mexcept\u001b[39;00m socket.error:\n\u001b[32m    133\u001b[39m         \u001b[38;5;28;01mpass\u001b[39;00m\n\u001b[32m--> \u001b[39m\u001b[32m134\u001b[39m \u001b[38;5;28;43mself\u001b[39;49m\u001b[43m.\u001b[49m\u001b[43merror\u001b[49m\u001b[43m(\u001b[49m\u001b[33;43m\"\u001b[39;49m\u001b[33;43mCould not connect to \u001b[39;49m\u001b[38;5;132;43;01m%s\u001b[39;49;00m\u001b[33;43m on port \u001b[39;49m\u001b[38;5;132;43;01m%s\u001b[39;49;00m\u001b[33;43m\"\u001b[39;49m\u001b[43m,\u001b[49m\u001b[43m \u001b[49m\u001b[38;5;28;43mself\u001b[39;49m\u001b[43m.\u001b[49m\u001b[43mrhost\u001b[49m\u001b[43m,\u001b[49m\u001b[43m \u001b[49m\u001b[38;5;28;43mself\u001b[39;49m\u001b[43m.\u001b[49m\u001b[43mrport\u001b[49m\u001b[43m)\u001b[49m\n",
      "\u001b[36mFile \u001b[39m\u001b[32m/usr/lib/python3.13/site-packages/pwnlib/log.py:439\u001b[39m, in \u001b[36mLogger.error\u001b[39m\u001b[34m(self, message, *args, **kwargs)\u001b[39m\n\u001b[32m    432\u001b[39m \u001b[38;5;250m\u001b[39m\u001b[33;03m\"\"\"error(message, *args, **kwargs)\u001b[39;00m\n\u001b[32m    433\u001b[39m \n\u001b[32m    434\u001b[39m \u001b[33;03mTo be called outside an exception handler.\u001b[39;00m\n\u001b[32m    435\u001b[39m \n\u001b[32m    436\u001b[39m \u001b[33;03mLogs an error message, then raises a ``PwnlibException``.\u001b[39;00m\n\u001b[32m    437\u001b[39m \u001b[33;03m\"\"\"\u001b[39;00m\n\u001b[32m    438\u001b[39m \u001b[38;5;28mself\u001b[39m._log(logging.ERROR, message, args, kwargs, \u001b[33m'\u001b[39m\u001b[33merror\u001b[39m\u001b[33m'\u001b[39m)\n\u001b[32m--> \u001b[39m\u001b[32m439\u001b[39m \u001b[38;5;28;01mraise\u001b[39;00m PwnlibException(message % args)\n",
      "\u001b[31mPwnlibException\u001b[39m: Could not connect to archive.cryptohack.org on port 11718"
     ]
    }
   ],
   "source": [
    "r = remote(\"archive.cryptohack.org\", 11718)\n",
    "\n",
    "print(f\"[+] P: {P}\")\n",
    "r.sendlineafter(b'x-coordinate: ', b'1')\n",
    "\n",
    "aP = Etwist.lift_x(Ftwist(int(r.recvline())))\n",
    "print(f\"[+] aP: {aP}\")\n",
    "r.close()\n",
    "\n",
    "# Solve\n",
    "a = int(disc_log(P, aP))\n",
    "print(f\"[+] a: {a}\")\n",
    "\n",
    "print('[+] Flag: ECSC{' + bytes.fromhex(hex(a)[2:]).decode() + '}')"
   ]
  }
 ],
 "metadata": {
  "kernelspec": {
   "display_name": "SageMath 10.7",
   "language": "sage",
   "name": "sagemath"
  },
  "language_info": {
   "codemirror_mode": {
    "name": "ipython",
    "version": 3
   },
   "file_extension": ".py",
   "mimetype": "text/x-python",
   "name": "python",
   "nbconvert_exporter": "python",
   "pygments_lexer": "ipython3",
   "version": "3.13.7"
  }
 },
 "nbformat": 4,
 "nbformat_minor": 5
}
